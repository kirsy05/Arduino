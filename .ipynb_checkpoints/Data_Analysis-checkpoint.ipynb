{
 "cells": [
  {
   "cell_type": "code",
   "execution_count": 10,
   "id": "df1e367a",
   "metadata": {},
   "outputs": [],
   "source": [
    "import pandas as pd\n",
    "import numpy as np\n",
    "import matplotlib.pyplot as plt\n",
    "import datetime\n",
    "from datetime import timedelta\n",
    "from datetime import datetime\n",
    "from mpl_toolkits.axes_grid1.inset_locator import inset_axes"
   ]
  },
  {
   "cell_type": "code",
   "execution_count": 11,
   "id": "9af19ae5",
   "metadata": {},
   "outputs": [
    {
     "name": "stderr",
     "output_type": "stream",
     "text": [
      "C:\\Users\\Kirsten\\AppData\\Local\\Temp\\ipykernel_23336\\667377324.py:1: ParserWarning: Falling back to the 'python' engine because the 'c' engine does not support regex separators (separators > 1 char and different from '\\s+' are interpreted as regex); you can avoid this warning by specifying engine='python'.\n",
      "  df = pd.read_csv(\"Data/TSENSOR_cleaned.log\"\n"
     ]
    }
   ],
   "source": [
    "df = pd.read_csv(\"Data/TSENSOR_cleaned.log\"\n",
    "                 ,delimiter = \", \"\n",
    "                 , comment = \"#\"\n",
    "                ,names = [\"timestamp\",\"milli\",\"registration_number\",\"tempCelsius\"])"
   ]
  },
  {
   "cell_type": "code",
   "execution_count": 12,
   "id": "175c65ca",
   "metadata": {},
   "outputs": [
    {
     "data": {
      "text/html": [
       "<div>\n",
       "<style scoped>\n",
       "    .dataframe tbody tr th:only-of-type {\n",
       "        vertical-align: middle;\n",
       "    }\n",
       "\n",
       "    .dataframe tbody tr th {\n",
       "        vertical-align: top;\n",
       "    }\n",
       "\n",
       "    .dataframe thead th {\n",
       "        text-align: right;\n",
       "    }\n",
       "</style>\n",
       "<table border=\"1\" class=\"dataframe\">\n",
       "  <thead>\n",
       "    <tr style=\"text-align: right;\">\n",
       "      <th></th>\n",
       "      <th>timestamp</th>\n",
       "      <th>milli</th>\n",
       "      <th>registration_number</th>\n",
       "      <th>tempCelsius</th>\n",
       "    </tr>\n",
       "  </thead>\n",
       "  <tbody>\n",
       "    <tr>\n",
       "      <th>0</th>\n",
       "      <td>2023-03-02T15:45:09Z</td>\n",
       "      <td>507</td>\n",
       "      <td>b84c96f013c</td>\n",
       "      <td>25.00</td>\n",
       "    </tr>\n",
       "    <tr>\n",
       "      <th>1</th>\n",
       "      <td>2023-03-02T15:45:10Z</td>\n",
       "      <td>1669</td>\n",
       "      <td>b84c96f013c</td>\n",
       "      <td>24.44</td>\n",
       "    </tr>\n",
       "    <tr>\n",
       "      <th>2</th>\n",
       "      <td>2023-03-02T15:45:11Z</td>\n",
       "      <td>2824</td>\n",
       "      <td>b84c96f013c</td>\n",
       "      <td>24.44</td>\n",
       "    </tr>\n",
       "    <tr>\n",
       "      <th>3</th>\n",
       "      <td>2023-03-02T15:45:13Z</td>\n",
       "      <td>3971</td>\n",
       "      <td>b84c96f013c</td>\n",
       "      <td>24.44</td>\n",
       "    </tr>\n",
       "    <tr>\n",
       "      <th>4</th>\n",
       "      <td>2023-03-02T15:45:14Z</td>\n",
       "      <td>5111</td>\n",
       "      <td>b84c96f013c</td>\n",
       "      <td>24.44</td>\n",
       "    </tr>\n",
       "    <tr>\n",
       "      <th>...</th>\n",
       "      <td>...</td>\n",
       "      <td>...</td>\n",
       "      <td>...</td>\n",
       "      <td>...</td>\n",
       "    </tr>\n",
       "    <tr>\n",
       "      <th>2100</th>\n",
       "      <td>2023-03-02T16:26:28Z</td>\n",
       "      <td>2313520</td>\n",
       "      <td>b84c96f013c</td>\n",
       "      <td>20.19</td>\n",
       "    </tr>\n",
       "    <tr>\n",
       "      <th>2101</th>\n",
       "      <td>2023-03-02T16:26:29Z</td>\n",
       "      <td>2314662</td>\n",
       "      <td>b84c96f013c</td>\n",
       "      <td>20.19</td>\n",
       "    </tr>\n",
       "    <tr>\n",
       "      <th>2102</th>\n",
       "      <td>2023-03-02T16:26:31Z</td>\n",
       "      <td>2315805</td>\n",
       "      <td>b84c96f013c</td>\n",
       "      <td>20.19</td>\n",
       "    </tr>\n",
       "    <tr>\n",
       "      <th>2103</th>\n",
       "      <td>2023-03-02T16:26:32Z</td>\n",
       "      <td>2316949</td>\n",
       "      <td>b84c96f013c</td>\n",
       "      <td>20.25</td>\n",
       "    </tr>\n",
       "    <tr>\n",
       "      <th>2104</th>\n",
       "      <td>2023-03-02T16:26:33Z</td>\n",
       "      <td>2318095</td>\n",
       "      <td>b84c96f013c</td>\n",
       "      <td>20.25</td>\n",
       "    </tr>\n",
       "  </tbody>\n",
       "</table>\n",
       "<p>2105 rows × 4 columns</p>\n",
       "</div>"
      ],
      "text/plain": [
       "                 timestamp    milli registration_number  tempCelsius\n",
       "0     2023-03-02T15:45:09Z      507         b84c96f013c        25.00\n",
       "1     2023-03-02T15:45:10Z     1669         b84c96f013c        24.44\n",
       "2     2023-03-02T15:45:11Z     2824         b84c96f013c        24.44\n",
       "3     2023-03-02T15:45:13Z     3971         b84c96f013c        24.44\n",
       "4     2023-03-02T15:45:14Z     5111         b84c96f013c        24.44\n",
       "...                    ...      ...                 ...          ...\n",
       "2100  2023-03-02T16:26:28Z  2313520         b84c96f013c        20.19\n",
       "2101  2023-03-02T16:26:29Z  2314662         b84c96f013c        20.19\n",
       "2102  2023-03-02T16:26:31Z  2315805         b84c96f013c        20.19\n",
       "2103  2023-03-02T16:26:32Z  2316949         b84c96f013c        20.25\n",
       "2104  2023-03-02T16:26:33Z  2318095         b84c96f013c        20.25\n",
       "\n",
       "[2105 rows x 4 columns]"
      ]
     },
     "execution_count": 12,
     "metadata": {},
     "output_type": "execute_result"
    }
   ],
   "source": [
    "df"
   ]
  },
  {
   "cell_type": "code",
   "execution_count": 17,
   "id": "807c2f7d",
   "metadata": {},
   "outputs": [],
   "source": [
    "Time = np.loadtxt(\"Data/TSENSOR_cleaned.log\",dtype=str,delimiter=\",\",usecols=(0),unpack=True)"
   ]
  },
  {
   "cell_type": "code",
   "execution_count": 18,
   "id": "2585b3bb",
   "metadata": {},
   "outputs": [
    {
     "data": {
      "text/plain": [
       "array(['2023-03-02T15:45:09Z', '2023-03-02T15:45:10Z',\n",
       "       '2023-03-02T15:45:11Z', ..., '2023-03-02T16:26:31Z',\n",
       "       '2023-03-02T16:26:32Z', '2023-03-02T16:26:33Z'], dtype='<U20')"
      ]
     },
     "execution_count": 18,
     "metadata": {},
     "output_type": "execute_result"
    }
   ],
   "source": [
    "Time"
   ]
  },
  {
   "cell_type": "code",
   "execution_count": 19,
   "id": "ab291899",
   "metadata": {},
   "outputs": [],
   "source": [
    "Milli = np.loadtxt(\"Data/TSENSOR_cleaned.log\",delimiter=\",\",usecols=(1),unpack=True)"
   ]
  },
  {
   "cell_type": "code",
   "execution_count": 20,
   "id": "cf3d357b",
   "metadata": {},
   "outputs": [
    {
     "data": {
      "text/plain": [
       "array([5.070000e+02, 1.669000e+03, 2.824000e+03, ..., 2.315805e+06,\n",
       "       2.316949e+06, 2.318095e+06])"
      ]
     },
     "execution_count": 20,
     "metadata": {},
     "output_type": "execute_result"
    }
   ],
   "source": [
    "Milli"
   ]
  },
  {
   "cell_type": "code",
   "execution_count": 21,
   "id": "497db486",
   "metadata": {},
   "outputs": [],
   "source": [
    "tempCelsius = np.loadtxt(\"Data/TSENSOR_cleaned.log\",delimiter=\",\",usecols=(3),unpack=True)"
   ]
  },
  {
   "cell_type": "code",
   "execution_count": 22,
   "id": "82a44398",
   "metadata": {},
   "outputs": [
    {
     "data": {
      "text/plain": [
       "array([25.  , 24.44, 24.44, ..., 20.19, 20.25, 20.25])"
      ]
     },
     "execution_count": 22,
     "metadata": {},
     "output_type": "execute_result"
    }
   ],
   "source": [
    "tempCelsius"
   ]
  },
  {
   "cell_type": "code",
   "execution_count": 35,
   "id": "4264b6e5",
   "metadata": {},
   "outputs": [
    {
     "data": {
      "image/png": "[encoded data removed]",
      "text/plain": [
       "<Figure size 640x480 with 1 Axes>"
      ]
     },
     "metadata": {},
     "output_type": "display_data"
    }
   ],
   "source": [
    "Time2 = pd.to_datetime(Time, format='%Y-%m-%dT%H:%M:%SZ')\n",
    "plt.plot(Time2,tempCelsius)\n",
    "tick_locations = Time2[::400] # select every 10th tick location\n",
    "plt.xticks(tick_locations, rotation=45)\n",
    "plt.show()"
   ]
  },
  {
   "cell_type": "code",
   "execution_count": null,
   "id": "6e121188",
   "metadata": {},
   "outputs": [],
   "source": []
  },
  {
   "cell_type": "code",
   "execution_count": 51,
   "id": "121f0499",
   "metadata": {},
   "outputs": [
    {
     "data": {
      "image/png": "[encoded data removed]",
      "text/plain": [
       "<Figure size 640x480 with 1 Axes>"
      ]
     },
     "metadata": {},
     "output_type": "display_data"
    }
   ],
   "source": [
    "Time2 = pd.to_datetime(Time, format='%Y-%m-%dT%H:%M:%SZ')\n",
    "plt.plot(Time2,tempCelsius)\n",
    "tick_locations = Time2[::400] # select every 10th tick location\n",
    "tick_labels = Time2.strftime('%H:%M:%S')[::400] # select the corresponding tick labels\n",
    "plt.xticks(tick_locations, tick_labels, rotation=45)\n",
    "plt.show()\n"
   ]
  },
  {
   "cell_type": "code",
   "execution_count": null,
   "id": "5900805f",
   "metadata": {},
   "outputs": [],
   "source": []
  }
 ],
 "metadata": {
  "kernelspec": {
   "display_name": "Python 3 (ipykernel)",
   "language": "python",
   "name": "python3"
  },
  "language_info": {
   "codemirror_mode": {
    "name": "ipython",
    "version": 3
   },
   "file_extension": ".py",
   "mimetype": "text/x-python",
   "name": "python",
   "nbconvert_exporter": "python",
   "pygments_lexer": "ipython3",
   "version": "3.10.9"
  }
 },
 "nbformat": 4,
 "nbformat_minor": 5
}
